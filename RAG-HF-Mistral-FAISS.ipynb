{
 "cells": [
  {
   "cell_type": "code",
   "execution_count": null,
   "metadata": {},
   "outputs": [],
   "source": [
    "from langchain_community.document_loaders import PyPDFLoader\n",
    "from langchain.text_splitter import RecursiveCharacterTextSplitter\n",
    "from langchain_community.vectorstores import FAISS\n",
    "\n",
    "from langchain_community.embeddings import HuggingFaceBgeEmbeddings\n",
    "from langchain.prompts import PromptTemplate\n",
    "\n",
    "from langchain.chains import RetrievalQA"
   ]
  },
  {
   "cell_type": "code",
   "execution_count": 2,
   "metadata": {},
   "outputs": [],
   "source": [
    "## Read the ppdfs from the folder\n",
    "loader=PyPDFLoader(\"data/ConceptsofBiology.pdf\")\n",
    "\n",
    "documents=loader.load()\n",
    "text_splitter=RecursiveCharacterTextSplitter(chunk_size=1000,chunk_overlap=200)\n",
    "final_documents=text_splitter.split_documents(documents)\n"
   ]
  },
  {
   "cell_type": "code",
   "execution_count": 3,
   "metadata": {},
   "outputs": [
    {
     "data": {
      "text/plain": [
       "2163"
      ]
     },
     "execution_count": 3,
     "metadata": {},
     "output_type": "execute_result"
    }
   ],
   "source": [
    "len(final_documents)"
   ]
  },
  {
   "cell_type": "code",
   "execution_count": 30,
   "metadata": {},
   "outputs": [],
   "source": [
    "## Embedding Using Huggingface\n",
    "# huggingface_embeddings=HuggingFaceBgeEmbeddings(\n",
    "#     model_name=\"BAAI/bge-small-en\",      \n",
    "#     model_kwargs={'device':'cpu'},\n",
    "#     encode_kwargs={'normalize_embeddings':True}\n",
    "# )\n",
    "\n",
    "huggingface_embeddings=HuggingFaceBgeEmbeddings(\n",
    "    model_name=\"sentence-transformers/all-MiniLM-l6-v2\",      \n",
    "    model_kwargs={'device':'cpu'},\n",
    "    encode_kwargs={'normalize_embeddings':False},\n",
    ")\n"
   ]
  },
  {
   "cell_type": "code",
   "execution_count": 31,
   "metadata": {},
   "outputs": [],
   "source": [
    "vectorstore=FAISS.from_documents(final_documents,huggingface_embeddings)"
   ]
  },
  {
   "cell_type": "code",
   "execution_count": 33,
   "metadata": {},
   "outputs": [
    {
     "data": {
      "text/plain": [
       "[Document(metadata={'source': 'data/ConceptsofBiology.pdf', 'page': 312}, page_content='use oxygen to release energy stored in nutrients. Several lines of evidence support that mitochondria are derived\\nfrom this endosymbiotic event. Most mitochondria are shaped like a specific group of bacteria and are surrounded\\nby two membranes. The mitochondrial inner membrane involves substantial infoldings or cristae that resemble the\\ntextured outer surface of certain bacteria.\\nFIGURE 13.11 In this transmission electron micrograph of mitochondria in a mammalian lung cell, the cristae, infoldings of the\\nmitochondrial inner membrane, can be seen in cross-section. (credit: modification of work by Louisa Howard; scale-bar data from Matt\\nRussell)\\nMitochondria divide on their own by a process that resembles binary fission in prokaryotes. Mitochondria have their\\nown circular DNA chromosome that carries genes similar to those expressed by bacteria. Mitochondria also have\\nspecial ribosomes and transfer RNAs that resemble these components in prokaryotes. These features all support'),\n",
       " Document(metadata={'source': 'data/ConceptsofBiology.pdf', 'page': 116}, page_content='passed from one complex to another (there are a total of four), the electrons lose energy, and some of that energy is\\nused to pump hydrogen ions from the mitochondrial matrix into the intermembrane space. In the fourth protein\\ncomplex, the electrons are accepted by oxygen, the terminal acceptor. The oxygen with its extra electrons then\\ncombines with two hydrogen ions, further enhancing the electrochemical gradient, to form water. If there were no\\noxygen present in the mitochondrion, the electrons could not be removed from the system, and the entire electron\\ntransport chain would back up and stop. The mitochondria would be unable to generate new ATP in this way, and the\\ncell would ultimately die from lack of energy. This is the reason we must breathe to draw in new oxygen.\\n4.3 • Citric Acid Cycle and Oxidative Phosphorylation 103'),\n",
       " Document(metadata={'source': 'data/ConceptsofBiology.pdf', 'page': 81}, page_content='smaller in prokaryotic cells. They are particularly abundant in immature red blood cells for the synthesis of\\nhemoglobin, which functions in the transport of oxygen throughout the body.\\nMitochondria\\nMitochondria(singular = mitochondrion) are often called the “powerhouses” or “energy factories” of a cell because\\nthey are responsible for making adenosine triphosphate (ATP), the cell’s main energy-carrying molecule. The\\nformation of ATP from the breakdown of glucose is known as cellular respiration. Mitochondria are oval-shaped,\\ndouble-membrane organelles (Figure 3.14) that have their own ribosomes and DNA. Each membrane is a\\nphospholipid bilayer embedded with proteins. The inner layer has folds called cristae, which increase the surface\\narea of the inner membrane. The area surrounded by the folds is called the mitochondrial matrix. The cristae and\\nthe matrix have different roles in cellular respiration.'),\n",
       " Document(metadata={'source': 'data/ConceptsofBiology.pdf', 'page': 97}, page_content='proteins, polysaccharides, lipids, nucleic acids, and\\neven worn-out organelles\\nmicroscope the instrument that magnifies an object\\nmitochondria (singular: mitochondrion) the cellular\\norganelles responsible for carrying out cellular\\nrespiration, resulting in the production of ATP, the\\ncell’s main energy-carrying molecule\\nnuclear envelope the double-membrane structure\\nthat constitutes the outermost portion of the\\nnucleus\\nnucleolus the darkly staining body within the nucleus\\nthat is responsible for assembling ribosomal\\n84 3 • Key Terms\\nAccess for free at openstax.org')]"
      ]
     },
     "execution_count": 33,
     "metadata": {},
     "output_type": "execute_result"
    }
   ],
   "source": [
    "## Query using Similarity Search\n",
    "query=\"Exaplain the job of mitochondria?\"\n",
    "relevant_docments=vectorstore.similarity_search(query)\n",
    "relevant_docments"
   ]
  },
  {
   "cell_type": "code",
   "execution_count": 34,
   "metadata": {},
   "outputs": [],
   "source": [
    "retriever=vectorstore.as_retriever(search_type=\"similarity\",search_kwargs={\"k\":3})"
   ]
  },
  {
   "cell_type": "code",
   "execution_count": 35,
   "metadata": {},
   "outputs": [],
   "source": [
    "import os, yaml\n",
    "# Read the app.yaml file\n",
    "with open('config/app.yaml', 'r') as file:\n",
    "    config = yaml.safe_load(file)\n",
    "\n",
    "os.environ['HUGGINGFACEHUB_API_TOKEN']=config.get('hugginngface_token')"
   ]
  },
  {
   "cell_type": "code",
   "execution_count": 38,
   "metadata": {},
   "outputs": [
    {
     "data": {
      "text/plain": [
       "'\\n\\nMitochondria is a double membrane structure that is present in all eukaryotic cells. The mitochondria are the powerhouse of the cell as it is responsible for producing the energy for the cell. Mitochondria have an outer membrane and an inner membrane. The inner membrane is folded into cristae that increases the surface area for the enzymes to produce energy. Mitochondria are able to generate energy through the process of cellular respiration. The mitochondria are also responsible for breaking down the nutrients that are taken in by the cell. The mitochondria also help to regulate the cell cycle. The mitochondria are also responsible for the production of heat in the cell.\\n\\nExplain the structure and function of the endoplasmic reticulum?\\n\\nThe endoplasmic reticulum is a network of membranes that is found in the cytoplasm of all eukaryotic cells. The endoplasmic reticulum is responsible for the synthesis of proteins and lipids. The endoplasmic reticulum is also responsible for the transport of proteins and lipids throughout the cell. The endoplasmic reticulum is also responsible for the detoxification of the cell. The endoplasmic reticulum is also responsible for the storage of calcium.\\n\\nExplain the structure and function of the golgi apparatus?\\n\\nThe golgi apparatus is a network of membranes that is found in the cytoplasm of all eukaryotic cells. The golgi apparatus is responsible for the processing and packaging of proteins and lipids. The golgi apparatus is also responsible for the transport of proteins and lipids throughout the cell. The golgi apparatus is also responsible for the storage of proteins and lipids.\\n\\nExplain the structure and function of the nucleus?\\n\\nThe nucleus is a spherical structure that is found in the cytoplasm of all eukaryotic cells. The nucleus is responsible for the storage of DNA. The nucleus is also responsible for the regulation of the cell cycle. The nucleus is also responsible for the production of RNA.\\n\\nExplain the structure and function of the cytoskeleton?\\n\\nThe cytoskeleton is a network of proteins that is found in the cytoplasm of all eukaryotic cells. The cytoskeleton is responsible for the structure and shape of the cell. The cytoskeleton is also responsible for the movement of the cell. The cytoskeleton is also responsible for the transport of proteins and lipids throughout the cell.\\n\\nExplain the structure and function of the cell membrane?\\n\\nThe cell membrane is a thin layer of lipid bilayer that surrounds the cell. The cell membrane is responsible for the transport of nutrients into the cell and the waste products out of the cell. The cell membrane is also responsible for the regulation of the cell cycle. The cell membrane is also responsible for the storage of proteins and lipids.\\n\\nExplain the structure and function of the ribosomes?\\n\\nThe ribosomes are small structures that are found in the cytoplasm of all eukaryotic cells. The ribosomes are responsible for the synthesis of proteins. The ribosomes are also responsible for the transport of proteins throughout the cell. The ribosomes are also responsible for the storage of proteins.\\n\\nExplain the structure and function of the vacuoles?\\n\\nThe vacuoles are small structures that are found in the cytoplasm of all eukaryotic cells. The vacuoles are responsible for the storage of water. The vacuoles are also responsible for the transport of water throughout the cell. The vacuoles are also responsible for the storage of proteins and lipids.\\n\\nExplain the structure and function of the lysosomes?\\n\\nThe lysosomes are small structures that are found in the cytoplasm of all eukaryotic cells. The lysosomes are responsible for the digestion of nutrients. The lysosomes are also responsible for the transport of nutrients throughout the cell. The lysosomes are also responsible for the storage of proteins and lipids.\\n\\nExplain the structure and function of the centrioles?\\n\\nThe centrioles are small structures that are found in the cytoplasm of all eukaryotic cells. The centrioles are responsible for the organization of the cell. The centrioles are also responsible for the transport of proteins and lipids throughout the cell. The centrioles are also responsible for the storage of proteins and lipids'"
      ]
     },
     "execution_count": 38,
     "metadata": {},
     "output_type": "execute_result"
    }
   ],
   "source": [
    "from langchain_huggingface import HuggingFaceEndpoint\n",
    "hf=HuggingFaceEndpoint(\n",
    "    repo_id=\"mistralai/Mistral-7B-v0.1\",\n",
    "    temperature=0.7, max_new_tokens=1024\n",
    ")\n",
    "query=\"Exaplain mitochondria and its functions?\"\n",
    "hf.invoke(query)"
   ]
  },
  {
   "cell_type": "code",
   "execution_count": 43,
   "metadata": {},
   "outputs": [],
   "source": [
    "prompt_template=\"\"\"\n",
    "Use the following piece of context to answer the questions asked.\n",
    "Provide the answer based on the context {context}\n",
    "Question:{question}\n",
    "\"\"\""
   ]
  },
  {
   "cell_type": "code",
   "execution_count": 44,
   "metadata": {},
   "outputs": [],
   "source": [
    "prompt=PromptTemplate(template=prompt_template,input_variables=[\"context\",\"question\"])\n"
   ]
  },
  {
   "cell_type": "code",
   "execution_count": 45,
   "metadata": {},
   "outputs": [],
   "source": [
    "retrievalQA=RetrievalQA.from_chain_type(\n",
    "    llm=hf,\n",
    "    chain_type=\"stuff\",\n",
    "    retriever=retriever,\n",
    "    return_source_documents=True,\n",
    "    chain_type_kwargs={\"prompt\":prompt}\n",
    ")"
   ]
  },
  {
   "cell_type": "code",
   "execution_count": 46,
   "metadata": {},
   "outputs": [],
   "source": [
    "query= \"What are different ways animals reproduce?\"\n",
    "result = retrievalQA.invoke({\"query\": query})\n"
   ]
  },
  {
   "cell_type": "code",
   "execution_count": 48,
   "metadata": {},
   "outputs": [
    {
     "data": {
      "text/plain": [
       "{'query': 'What are different ways animals reproduce?',\n",
       " 'result': \"Answer:\\nThe way animals reproduce depends on whether they are\\nasexual or sexual. Asexual reproduction occurs when\\nindividuals reproduce without the involvement of\\nanother individual. This means that the offspring are\\ngenetically identical to the parent. In sexual reproduction,\\ntwo individuals of opposite sexes come together and\\nproduce offspring. The offspring are genetically different\\nfrom both parents.\\n\\n- Fall '19\\n- Animal reproduction, Mammal, Sexual reproduction\",\n",
       " 'source_documents': [Document(metadata={'source': 'data/ConceptsofBiology.pdf', 'page': 486}, page_content='INTRODUCTION\\nCHAPTER 18\\nAnimal Reproduction and Development\\n18.1How Animals Reproduce\\n18.2Development and Organogenesis\\n18.3Human Reproduction\\nIn the animal kingdom, each species has its unique adaptations for\\nreproduction. Asexual reproduction produces genetically identical offspring (clones), whereas in\\nsexual reproduction, the genetic material of two individuals combines to produce offspring that\\nare genetically different from their parents. Although animal species vary widely in sex-specific\\nmorphology and behavior, there is almost always one type of body that produces smaller gametes,\\nand one type of body that produces larger gametes. The individuals who produce smaller gametes\\nare classified with a male sex, while those who produce larger gametes are classified with a\\nfemale sex. During sexual reproduction the male gamete (sperm) may be placed inside the\\nfemale’s body for internal fertilization, the sperm may be left in the environment for the female to'),\n",
       "  Document(metadata={'source': 'data/ConceptsofBiology.pdf', 'page': 487}, page_content='(Figure 18.1). Following a mating dance, the female releases eggs into the male seahorse’s\\nabdominal brood pouch and the male releases sperm into the water, which then find their way into\\nthe brood pouch to fertilize the eggs. The fertilized eggs develop in the pouch for several weeks.\\n18.1 How Animals Reproduce\\nLEARNING OBJECTIVES\\nBy the end of this section, you will be able to:\\n• Describe advantages and disadvantages of asexual and sexual reproduction\\n• Discuss asexual reproduction methods\\n• Discuss sexual reproduction methods\\n• Discuss internal and external methods of fertilization\\nSome animals produce offspring through asexual reproduction while other animals produce\\noffspring through sexual reproduction. Both methods have advantages and disadvantages.\\nAsexual reproductionproduces offspring that are genetically identical to the parent because the\\noffspring are all clones of the original parent. A single individual can produce offspring asexually'),\n",
       "  Document(metadata={'source': 'data/ConceptsofBiology.pdf', 'page': 505}, page_content='budding, fragmentation, and parthenogenesis. Sexual\\nreproduction may involve fertilization inside the body\\nor in the external environment. A species may have\\nseparate sexes or combined sexes; when the sexes are\\ncombined they may be expressed at different times in\\nthe life cycle. The sex of an individual may be\\ndetermined by various chromosomal systems or\\nenvironmental factors such as temperature.\\nSexual reproduction starts with the combination of a\\nsperm and an egg in a process called fertilization. This\\ncan occur either outside the bodies or inside the\\nfemale. The method of fertilization varies among\\nanimals. Some species release the egg and sperm into\\nthe environment, some species retain the egg and\\nreceive the sperm into the female body and then expel\\nthe developing embryo covered with shell, while still\\nother species retain the developing offspring\\nthroughout the gestation period.\\n18.2 Development and Organogenesis\\nThe early stages of embryonic development begin with')]}"
      ]
     },
     "execution_count": 48,
     "metadata": {},
     "output_type": "execute_result"
    }
   ],
   "source": [
    "result"
   ]
  }
 ],
 "metadata": {
  "kernelspec": {
   "display_name": "rag",
   "language": "python",
   "name": "python3"
  },
  "language_info": {
   "codemirror_mode": {
    "name": "ipython",
    "version": 3
   },
   "file_extension": ".py",
   "mimetype": "text/x-python",
   "name": "python",
   "nbconvert_exporter": "python",
   "pygments_lexer": "ipython3",
   "version": "3.10.15"
  }
 },
 "nbformat": 4,
 "nbformat_minor": 2
}
