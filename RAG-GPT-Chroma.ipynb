{
 "cells": [
  {
   "cell_type": "code",
   "execution_count": 1,
   "metadata": {},
   "outputs": [],
   "source": [
    "# Document Ingestion - PDF Loading\n",
    "from langchain_community.document_loaders import TextLoader, PyPDFLoader\n",
    "loader = PyPDFLoader('data/ConceptsofBiology.pdf')\n",
    "doc = loader.load()"
   ]
  },
  {
   "cell_type": "code",
   "execution_count": 2,
   "metadata": {},
   "outputs": [],
   "source": [
    "# Document Transformation - Chunking\n",
    "from langchain.text_splitter import RecursiveCharacterTextSplitter\n",
    "text_splitter = RecursiveCharacterTextSplitter(chunk_size=1000, chunk_overlap=200)\n",
    "split_documents = text_splitter.split_documents(doc)"
   ]
  },
  {
   "cell_type": "code",
   "execution_count": 4,
   "metadata": {},
   "outputs": [],
   "source": [
    "import os, yaml\n",
    "# Read the app.yaml file\n",
    "with open('config/app.yaml', 'r') as file:\n",
    "    config = yaml.safe_load(file)\n",
    "\n",
    "os.environ[\"OPENAI_API_KEY\"] = config.get('openai-api-key')\n",
    "\n",
    "# Vector Embeddings and Vectorstore\n",
    "from langchain_openai import OpenAIEmbeddings\n",
    "from langchain_community.vectorstores import Chroma\n",
    "vector_db = Chroma.from_documents(split_documents, OpenAIEmbeddings())"
   ]
  },
  {
   "cell_type": "code",
   "execution_count": 5,
   "metadata": {},
   "outputs": [],
   "source": [
    "# Querying the vector DB based on similarity search\n",
    "query = \"What is mitochondria?\"\n",
    "results  = vector_db.similarity_search(query)"
   ]
  },
  {
   "cell_type": "code",
   "execution_count": 6,
   "metadata": {},
   "outputs": [
    {
     "data": {
      "text/plain": [
       "[Document(metadata={'page': 81, 'source': 'data/ConceptsofBiology.pdf'}, page_content='smaller in prokaryotic cells. They are particularly abundant in immature red blood cells for the synthesis of\\nhemoglobin, which functions in the transport of oxygen throughout the body.\\nMitochondria\\nMitochondria(singular = mitochondrion) are often called the “powerhouses” or “energy factories” of a cell because\\nthey are responsible for making adenosine triphosphate (ATP), the cell’s main energy-carrying molecule. The\\nformation of ATP from the breakdown of glucose is known as cellular respiration. Mitochondria are oval-shaped,\\ndouble-membrane organelles (Figure 3.14) that have their own ribosomes and DNA. Each membrane is a\\nphospholipid bilayer embedded with proteins. The inner layer has folds called cristae, which increase the surface\\narea of the inner membrane. The area surrounded by the folds is called the mitochondrial matrix. The cristae and\\nthe matrix have different roles in cellular respiration.'),\n",
       " Document(metadata={'page': 81, 'source': 'data/ConceptsofBiology.pdf'}, page_content='smaller in prokaryotic cells. They are particularly abundant in immature red blood cells for the synthesis of\\nhemoglobin, which functions in the transport of oxygen throughout the body.\\nMitochondria\\nMitochondria(singular = mitochondrion) are often called the “powerhouses” or “energy factories” of a cell because\\nthey are responsible for making adenosine triphosphate (ATP), the cell’s main energy-carrying molecule. The\\nformation of ATP from the breakdown of glucose is known as cellular respiration. Mitochondria are oval-shaped,\\ndouble-membrane organelles (Figure 3.14) that have their own ribosomes and DNA. Each membrane is a\\nphospholipid bilayer embedded with proteins. The inner layer has folds called cristae, which increase the surface\\narea of the inner membrane. The area surrounded by the folds is called the mitochondrial matrix. The cristae and\\nthe matrix have different roles in cellular respiration.'),\n",
       " Document(metadata={'page': 312, 'source': 'data/ConceptsofBiology.pdf'}, page_content='use oxygen to release energy stored in nutrients. Several lines of evidence support that mitochondria are derived\\nfrom this endosymbiotic event. Most mitochondria are shaped like a specific group of bacteria and are surrounded\\nby two membranes. The mitochondrial inner membrane involves substantial infoldings or cristae that resemble the\\ntextured outer surface of certain bacteria.\\nFIGURE 13.11 In this transmission electron micrograph of mitochondria in a mammalian lung cell, the cristae, infoldings of the\\nmitochondrial inner membrane, can be seen in cross-section. (credit: modification of work by Louisa Howard; scale-bar data from Matt\\nRussell)\\nMitochondria divide on their own by a process that resembles binary fission in prokaryotes. Mitochondria have their\\nown circular DNA chromosome that carries genes similar to those expressed by bacteria. Mitochondria also have\\nspecial ribosomes and transfer RNAs that resemble these components in prokaryotes. These features all support'),\n",
       " Document(metadata={'page': 312, 'source': 'data/ConceptsofBiology.pdf'}, page_content='use oxygen to release energy stored in nutrients. Several lines of evidence support that mitochondria are derived\\nfrom this endosymbiotic event. Most mitochondria are shaped like a specific group of bacteria and are surrounded\\nby two membranes. The mitochondrial inner membrane involves substantial infoldings or cristae that resemble the\\ntextured outer surface of certain bacteria.\\nFIGURE 13.11 In this transmission electron micrograph of mitochondria in a mammalian lung cell, the cristae, infoldings of the\\nmitochondrial inner membrane, can be seen in cross-section. (credit: modification of work by Louisa Howard; scale-bar data from Matt\\nRussell)\\nMitochondria divide on their own by a process that resembles binary fission in prokaryotes. Mitochondria have their\\nown circular DNA chromosome that carries genes similar to those expressed by bacteria. Mitochondria also have\\nspecial ribosomes and transfer RNAs that resemble these components in prokaryotes. These features all support')]"
      ]
     },
     "execution_count": 6,
     "metadata": {},
     "output_type": "execute_result"
    }
   ],
   "source": [
    "results"
   ]
  },
  {
   "cell_type": "code",
   "execution_count": 7,
   "metadata": {},
   "outputs": [],
   "source": [
    "#incorporating LLMs to the RAG flow\n",
    "from langchain_openai import ChatOpenAI\n",
    "model = ChatOpenAI(model='gpt-3.5-turbo')"
   ]
  },
  {
   "cell_type": "code",
   "execution_count": 8,
   "metadata": {},
   "outputs": [
    {
     "data": {
      "text/plain": [
       "ChatOpenAI(client=<openai.resources.chat.completions.Completions object at 0x177d8db70>, async_client=<openai.resources.chat.completions.AsyncCompletions object at 0x177dff640>, root_client=<openai.OpenAI object at 0x117d688b0>, root_async_client=<openai.AsyncOpenAI object at 0x177d8dba0>, model_kwargs={}, openai_api_key=SecretStr('**********'))"
      ]
     },
     "execution_count": 8,
     "metadata": {},
     "output_type": "execute_result"
    }
   ],
   "source": [
    "model"
   ]
  },
  {
   "cell_type": "code",
   "execution_count": 9,
   "metadata": {},
   "outputs": [],
   "source": [
    "# Prompt Template\n",
    "from langchain_core.prompts import ChatPromptTemplate\n",
    "prompt = ChatPromptTemplate.from_template(\"\"\"\n",
    "Answer the questions based only on the provided context. \n",
    "Provide detailed and clear answer based on the context. \n",
    "<context> {context} </context>\n",
    "Question: {input}\"\"\")"
   ]
  },
  {
   "cell_type": "code",
   "execution_count": 10,
   "metadata": {},
   "outputs": [],
   "source": [
    "# Create chains\n",
    "from langchain.chains.combine_documents import create_stuff_documents_chain\n",
    "from langchain.chains import create_retrieval_chain\n",
    "\n",
    "doc_chain = create_stuff_documents_chain(model,prompt= prompt)\n",
    "# Adding retriever\n",
    "retriever = vector_db.as_retriever()\n",
    "retriever_chain = create_retrieval_chain(retriever, doc_chain)"
   ]
  },
  {
   "cell_type": "code",
   "execution_count": 11,
   "metadata": {},
   "outputs": [],
   "source": [
    "response = retriever_chain.invoke({\"input\" : \"What is mitochondria? Explain the concept in details.\"})"
   ]
  },
  {
   "cell_type": "code",
   "execution_count": 12,
   "metadata": {},
   "outputs": [
    {
     "data": {
      "text/plain": [
       "{'input': 'What is mitochondria? Explain the concept in details.',\n",
       " 'context': [Document(metadata={'page': 81, 'source': 'data/ConceptsofBiology.pdf'}, page_content='smaller in prokaryotic cells. They are particularly abundant in immature red blood cells for the synthesis of\\nhemoglobin, which functions in the transport of oxygen throughout the body.\\nMitochondria\\nMitochondria(singular = mitochondrion) are often called the “powerhouses” or “energy factories” of a cell because\\nthey are responsible for making adenosine triphosphate (ATP), the cell’s main energy-carrying molecule. The\\nformation of ATP from the breakdown of glucose is known as cellular respiration. Mitochondria are oval-shaped,\\ndouble-membrane organelles (Figure 3.14) that have their own ribosomes and DNA. Each membrane is a\\nphospholipid bilayer embedded with proteins. The inner layer has folds called cristae, which increase the surface\\narea of the inner membrane. The area surrounded by the folds is called the mitochondrial matrix. The cristae and\\nthe matrix have different roles in cellular respiration.'),\n",
       "  Document(metadata={'page': 81, 'source': 'data/ConceptsofBiology.pdf'}, page_content='smaller in prokaryotic cells. They are particularly abundant in immature red blood cells for the synthesis of\\nhemoglobin, which functions in the transport of oxygen throughout the body.\\nMitochondria\\nMitochondria(singular = mitochondrion) are often called the “powerhouses” or “energy factories” of a cell because\\nthey are responsible for making adenosine triphosphate (ATP), the cell’s main energy-carrying molecule. The\\nformation of ATP from the breakdown of glucose is known as cellular respiration. Mitochondria are oval-shaped,\\ndouble-membrane organelles (Figure 3.14) that have their own ribosomes and DNA. Each membrane is a\\nphospholipid bilayer embedded with proteins. The inner layer has folds called cristae, which increase the surface\\narea of the inner membrane. The area surrounded by the folds is called the mitochondrial matrix. The cristae and\\nthe matrix have different roles in cellular respiration.'),\n",
       "  Document(metadata={'page': 312, 'source': 'data/ConceptsofBiology.pdf'}, page_content='use oxygen to release energy stored in nutrients. Several lines of evidence support that mitochondria are derived\\nfrom this endosymbiotic event. Most mitochondria are shaped like a specific group of bacteria and are surrounded\\nby two membranes. The mitochondrial inner membrane involves substantial infoldings or cristae that resemble the\\ntextured outer surface of certain bacteria.\\nFIGURE 13.11 In this transmission electron micrograph of mitochondria in a mammalian lung cell, the cristae, infoldings of the\\nmitochondrial inner membrane, can be seen in cross-section. (credit: modification of work by Louisa Howard; scale-bar data from Matt\\nRussell)\\nMitochondria divide on their own by a process that resembles binary fission in prokaryotes. Mitochondria have their\\nown circular DNA chromosome that carries genes similar to those expressed by bacteria. Mitochondria also have\\nspecial ribosomes and transfer RNAs that resemble these components in prokaryotes. These features all support'),\n",
       "  Document(metadata={'page': 312, 'source': 'data/ConceptsofBiology.pdf'}, page_content='use oxygen to release energy stored in nutrients. Several lines of evidence support that mitochondria are derived\\nfrom this endosymbiotic event. Most mitochondria are shaped like a specific group of bacteria and are surrounded\\nby two membranes. The mitochondrial inner membrane involves substantial infoldings or cristae that resemble the\\ntextured outer surface of certain bacteria.\\nFIGURE 13.11 In this transmission electron micrograph of mitochondria in a mammalian lung cell, the cristae, infoldings of the\\nmitochondrial inner membrane, can be seen in cross-section. (credit: modification of work by Louisa Howard; scale-bar data from Matt\\nRussell)\\nMitochondria divide on their own by a process that resembles binary fission in prokaryotes. Mitochondria have their\\nown circular DNA chromosome that carries genes similar to those expressed by bacteria. Mitochondria also have\\nspecial ribosomes and transfer RNAs that resemble these components in prokaryotes. These features all support')],\n",
       " 'answer': 'Mitochondria are organelles found in eukaryotic cells that are often referred to as the \"powerhouses\" or \"energy factories\" of the cell. They are responsible for producing adenosine triphosphate (ATP), the main energy-carrying molecule in cells. This process, known as cellular respiration, involves the breakdown of glucose to generate ATP. Mitochondria are oval-shaped organelles with a double membrane structure. They have their own ribosomes and DNA, which is arranged in a circular chromosome similar to that found in bacteria.\\n\\nThe inner membrane of mitochondria contains folds called cristae, which serve to increase the surface area of the membrane. The area inside the inner membrane, known as the mitochondrial matrix, plays a crucial role in cellular respiration. Mitochondria use oxygen to release energy stored in nutrients, and this process is supported by evidence suggesting that mitochondria evolved from an endosymbiotic event with bacteria. \\n\\nFurthermore, mitochondria have the ability to divide on their own through a process resembling binary fission seen in prokaryotes. They also possess unique ribosomes and transfer RNAs that resemble those found in prokaryotes, further supporting their evolutionary relationship with bacteria. Overall, mitochondria are essential organelles in cells that play a critical role in energy production and cellular respiration.'}"
      ]
     },
     "execution_count": 12,
     "metadata": {},
     "output_type": "execute_result"
    }
   ],
   "source": [
    "response"
   ]
  }
 ],
 "metadata": {
  "kernelspec": {
   "display_name": "rag",
   "language": "python",
   "name": "python3"
  },
  "language_info": {
   "codemirror_mode": {
    "name": "ipython",
    "version": 3
   },
   "file_extension": ".py",
   "mimetype": "text/x-python",
   "name": "python",
   "nbconvert_exporter": "python",
   "pygments_lexer": "ipython3",
   "version": "3.10.15"
  }
 },
 "nbformat": 4,
 "nbformat_minor": 2
}
