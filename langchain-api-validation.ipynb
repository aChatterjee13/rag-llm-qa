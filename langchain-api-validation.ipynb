{
 "cells": [
  {
   "cell_type": "code",
   "execution_count": 1,
   "metadata": {},
   "outputs": [],
   "source": [
    "from langchain_openai import ChatOpenAI\n",
    "from langchain_core.prompts import ChatPromptTemplate\n",
    "from langchain_core.output_parsers  import StrOutputParser\n",
    "\n",
    "import streamlit as st\n",
    "import os, yaml\n"
   ]
  },
  {
   "cell_type": "code",
   "execution_count": null,
   "metadata": {},
   "outputs": [],
   "source": [
    "# Read the app.yaml file\n",
    "with open('config/app.yaml', 'r') as file:\n",
    "    config = yaml.safe_load(file)\n",
    "\n",
    "\n",
    "os.environ[\"OPENAI_API_KEY\"] = config.get('openai-api-key')\n",
    "os.environ[\"LANGCHAIN_API_KEY\"] = config.get('lanhchain-api-key')\n",
    "# Langsmith tracking\n",
    "os.environ[\"LANGCHAIN_TRACING_V2\"] = \"true\"\n"
   ]
  },
  {
   "cell_type": "code",
   "execution_count": 5,
   "metadata": {},
   "outputs": [],
   "source": [
    "# Prompt template\n",
    "prompt = ChatPromptTemplate.from_messages(\n",
    "    [\n",
    "        (\"system\",\"You are a helpful AI assistant. Please respond to user queries.\"),\n",
    "        (\"user\", \"Question:{question}\")\n",
    "    ]\n",
    ")"
   ]
  },
  {
   "cell_type": "code",
   "execution_count": null,
   "metadata": {},
   "outputs": [],
   "source": [
    "st.title(\"Langchain OpenAI Chat\")\n",
    "input_text = st.text_input(\"Enter your question here\")\n",
    "\n",
    "llm=ChatOpenAI(model=\"gpt-3.5-turbo\")\n",
    "output_parser=StrOutputParser()\n",
    "chain = prompt | llm | output_parser\n",
    "\n",
    "\n",
    "if input_text:\n",
    "    st.write(chain.invoke({\"question\": input_text}))"
   ]
  }
 ],
 "metadata": {
  "kernelspec": {
   "display_name": "rag",
   "language": "python",
   "name": "python3"
  },
  "language_info": {
   "codemirror_mode": {
    "name": "ipython",
    "version": 3
   },
   "file_extension": ".py",
   "mimetype": "text/x-python",
   "name": "python",
   "nbconvert_exporter": "python",
   "pygments_lexer": "ipython3",
   "version": "3.10.15"
  }
 },
 "nbformat": 4,
 "nbformat_minor": 2
}
