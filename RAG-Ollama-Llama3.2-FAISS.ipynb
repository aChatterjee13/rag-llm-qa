{
 "cells": [
  {
   "cell_type": "code",
   "execution_count": null,
   "metadata": {},
   "outputs": [],
   "source": [
    "# Document Ingestion - PDF Loading\n",
    "from langchain_community.document_loaders import TextLoader, PyPDFLoader\n",
    "loader = PyPDFLoader('data/ConceptsofBiology.pdf')\n",
    "doc = loader.load()"
   ]
  },
  {
   "cell_type": "code",
   "execution_count": 3,
   "metadata": {},
   "outputs": [],
   "source": [
    "# Document Transformation - Chunking\n",
    "from langchain.text_splitter import RecursiveCharacterTextSplitter\n",
    "text_splitter = RecursiveCharacterTextSplitter(chunk_size=1000, chunk_overlap=200)\n",
    "split_documents = text_splitter.split_documents(doc)"
   ]
  },
  {
   "cell_type": "code",
   "execution_count": 24,
   "metadata": {},
   "outputs": [],
   "source": [
    "import os, yaml\n",
    "# Read the app.yaml file\n",
    "with open('config/app.yaml', 'r') as file:\n",
    "    config = yaml.safe_load(file)\n",
    "\n",
    "os.environ[\"OPENAI_API_KEY\"] = config.get('openai-api-key')\n",
    "\n",
    "# Vector Embeddings and Vectorstore\n",
    "from langchain_community.embeddings import OpenAIEmbeddings, OllamaEmbeddings\n",
    "from langchain_community.vectorstores import Chroma,FAISS\n",
    "vector_db = FAISS.from_documents(split_documents, OpenAIEmbeddings())"
   ]
  },
  {
   "cell_type": "code",
   "execution_count": 25,
   "metadata": {},
   "outputs": [],
   "source": [
    "# Querying the vector DB based on similarity search\n",
    "query = \"What is mitochondria?\"\n",
    "results  = vector_db.similarity_search(query)"
   ]
  },
  {
   "cell_type": "code",
   "execution_count": 26,
   "metadata": {},
   "outputs": [
    {
     "data": {
      "text/plain": [
       "[Document(metadata={'source': 'data/ConceptsofBiology.pdf', 'page': 81}, page_content='smaller in prokaryotic cells. They are particularly abundant in immature red blood cells for the synthesis of\\nhemoglobin, which functions in the transport of oxygen throughout the body.\\nMitochondria\\nMitochondria(singular = mitochondrion) are often called the “powerhouses” or “energy factories” of a cell because\\nthey are responsible for making adenosine triphosphate (ATP), the cell’s main energy-carrying molecule. The\\nformation of ATP from the breakdown of glucose is known as cellular respiration. Mitochondria are oval-shaped,\\ndouble-membrane organelles (Figure 3.14) that have their own ribosomes and DNA. Each membrane is a\\nphospholipid bilayer embedded with proteins. The inner layer has folds called cristae, which increase the surface\\narea of the inner membrane. The area surrounded by the folds is called the mitochondrial matrix. The cristae and\\nthe matrix have different roles in cellular respiration.'),\n",
       " Document(metadata={'source': 'data/ConceptsofBiology.pdf', 'page': 312}, page_content='use oxygen to release energy stored in nutrients. Several lines of evidence support that mitochondria are derived\\nfrom this endosymbiotic event. Most mitochondria are shaped like a specific group of bacteria and are surrounded\\nby two membranes. The mitochondrial inner membrane involves substantial infoldings or cristae that resemble the\\ntextured outer surface of certain bacteria.\\nFIGURE 13.11 In this transmission electron micrograph of mitochondria in a mammalian lung cell, the cristae, infoldings of the\\nmitochondrial inner membrane, can be seen in cross-section. (credit: modification of work by Louisa Howard; scale-bar data from Matt\\nRussell)\\nMitochondria divide on their own by a process that resembles binary fission in prokaryotes. Mitochondria have their\\nown circular DNA chromosome that carries genes similar to those expressed by bacteria. Mitochondria also have\\nspecial ribosomes and transfer RNAs that resemble these components in prokaryotes. These features all support'),\n",
       " Document(metadata={'source': 'data/ConceptsofBiology.pdf', 'page': 81}, page_content='area of the inner membrane. The area surrounded by the folds is called the mitochondrial matrix. The cristae and\\nthe matrix have different roles in cellular respiration.\\nIn keeping with our theme of form following function, it is important to point out that muscle cells have a very high\\nconcentration of mitochondria because muscle cells need a lot of energy to contract.\\n68 3 • Cell Structure and Function\\nAccess for free at openstax.org'),\n",
       " Document(metadata={'source': 'data/ConceptsofBiology.pdf', 'page': 253}, page_content='Mitochondrial Genomics\\nMitochondria are intracellular organelles that contain their own DNA. Mitochondrial DNA mutates at a rapid rate and\\nis often used to study evolutionary relationships. Another feature that makes studying the mitochondrial genome\\ninteresting is that in most multicellular organisms, the mitochondrial DNA is passed on from the mother during the\\nprocess of fertilization. For this reason, mitochondrial genomics is often used to trace genealogy.\\nGenomics in Forensic Analysis\\nInformation and clues obtained from DNA samples found at crime scenes have been used as evidence in court\\ncases, and genetic markers have been used in forensic analysis. Genomic analysis has also become useful in this\\nfield. In 2001, the first use of genomics in forensics was published. It was a collaborative effort between academic\\nresearch institutions and the FBI to solve the mysterious cases of anthrax (Figure 10.15) that was transported by')]"
      ]
     },
     "execution_count": 26,
     "metadata": {},
     "output_type": "execute_result"
    }
   ],
   "source": [
    "results"
   ]
  },
  {
   "cell_type": "code",
   "execution_count": null,
   "metadata": {},
   "outputs": [],
   "source": []
  },
  {
   "cell_type": "code",
   "execution_count": 27,
   "metadata": {},
   "outputs": [],
   "source": [
    "#incorporating LLMs to the RAG flow\n",
    "from langchain_ollama import OllamaLLM\n",
    "model = OllamaLLM(model='llama3.2')"
   ]
  },
  {
   "cell_type": "code",
   "execution_count": 28,
   "metadata": {},
   "outputs": [
    {
     "data": {
      "text/plain": [
       "OllamaLLM(model='llama3.2')"
      ]
     },
     "execution_count": 28,
     "metadata": {},
     "output_type": "execute_result"
    }
   ],
   "source": [
    "model"
   ]
  },
  {
   "cell_type": "code",
   "execution_count": 29,
   "metadata": {},
   "outputs": [],
   "source": [
    "# Prompt Template\n",
    "from langchain_core.prompts import ChatPromptTemplate\n",
    "prompt = ChatPromptTemplate.from_template(\"\"\"\n",
    "Answer the questions based only on the provided context. \n",
    "Think step by step before providing a detailed answer. \n",
    "<context> {context} </context>\n",
    "Question: {input}\"\"\")"
   ]
  },
  {
   "cell_type": "code",
   "execution_count": 30,
   "metadata": {},
   "outputs": [],
   "source": [
    "#create chains\n",
    "\n",
    "from langchain.chains.combine_documents import create_stuff_documents_chain\n",
    "doc_chain = create_stuff_documents_chain(model,prompt= prompt)"
   ]
  },
  {
   "cell_type": "code",
   "execution_count": 32,
   "metadata": {},
   "outputs": [
    {
     "data": {
      "text/plain": [
       "VectorStoreRetriever(tags=['FAISS', 'OpenAIEmbeddings'], vectorstore=<langchain_community.vectorstores.faiss.FAISS object at 0x32faae590>, search_kwargs={})"
      ]
     },
     "execution_count": 32,
     "metadata": {},
     "output_type": "execute_result"
    }
   ],
   "source": [
    "# Adding retriever\n",
    "retriever = vector_db.as_retriever()\n",
    "retriever"
   ]
  },
  {
   "cell_type": "code",
   "execution_count": 33,
   "metadata": {},
   "outputs": [],
   "source": [
    "from langchain.chains import create_retrieval_chain\n",
    "retriever_chain = create_retrieval_chain(retriever, doc_chain)\n"
   ]
  },
  {
   "cell_type": "code",
   "execution_count": 35,
   "metadata": {},
   "outputs": [],
   "source": [
    "response = retriever_chain.invoke({\"input\" : \"What is mitochondria? Explain the concept in details.\"})\n",
    "answer = response['answer']"
   ]
  },
  {
   "cell_type": "code",
   "execution_count": 36,
   "metadata": {},
   "outputs": [
    {
     "data": {
      "text/plain": [
       "'Based on the provided context, here\\'s a detailed explanation of what mitochondria are:\\n\\nMitochondria are often referred to as the \"powerhouses\" or \"energy factories\" of a cell because they play a crucial role in making adenosine triphosphate (ATP), the cell\\'s main energy-carrying molecule. This process is known as cellular respiration.\\n\\nThe formation of ATP from the breakdown of glucose occurs within the mitochondria, releasing energy stored in nutrients. Mitochondria are oval-shaped, double-membrane organelles that have their own ribosomes and DNA. Each membrane is a phospholipid bilayer embedded with proteins. The inner layer has folds called cristae, which increase the surface area of the inner membrane. The area surrounded by the folds is called the mitochondrial matrix.\\n\\nThe cristae and the matrix have different roles in cellular respiration. The cristae are involved in releasing energy stored in nutrients, while the matrix is responsible for storing and releasing ATP during cellular respiration.\\n\\nSeveral lines of evidence support that mitochondria are derived from an endosymbiotic event, where they formed a symbiotic relationship with bacteria to produce energy. This is evident in their unique structure, which resembles certain bacteria, including substantial infoldings or cristae on the inner membrane, similar to the textured outer surface of these bacteria.\\n\\nMitochondria also have their own circular DNA chromosome that carries genes similar to those expressed by bacteria, as well as special ribosomes and transfer RNAs that resemble those components in prokaryotes. This similarity supports the idea that mitochondria are derived from an ancient endosymbiotic event.\\n\\nIn summary, mitochondria are organelles responsible for generating energy through cellular respiration, storing and releasing ATP, and playing a crucial role in the survival of cells. Their unique structure and characteristics suggest that they evolved from an endosymbiotic relationship with bacteria.'"
      ]
     },
     "execution_count": 36,
     "metadata": {},
     "output_type": "execute_result"
    }
   ],
   "source": [
    "answer"
   ]
  },
  {
   "cell_type": "code",
   "execution_count": null,
   "metadata": {},
   "outputs": [],
   "source": []
  },
  {
   "cell_type": "code",
   "execution_count": 37,
   "metadata": {},
   "outputs": [],
   "source": [
    "response = retriever_chain.invoke({\"input\" : \"Which innate immune system component uses MHC class I molecules directly in its defense strategy\"})\n",
    "answer = response['answer']"
   ]
  },
  {
   "cell_type": "code",
   "execution_count": 38,
   "metadata": {},
   "outputs": [
    {
     "data": {
      "text/plain": [
       "\"To answer this question, let's analyze the information provided in the context.\\n\\nAccording to the text, NK cells identify intracellular infections, especially from viruses, by the altered expression of major histocompatibility complex (MHC) I molecules on the surface of infected cells. This indicates that NK cells directly use MHC class I molecules as part of their defense strategy.\\n\\nSo, based on this information, the answer to question 9 is:\\n\\nc. NK cells\""
      ]
     },
     "execution_count": 38,
     "metadata": {},
     "output_type": "execute_result"
    }
   ],
   "source": [
    "answer"
   ]
  }
 ],
 "metadata": {
  "kernelspec": {
   "display_name": "rag",
   "language": "python",
   "name": "python3"
  },
  "language_info": {
   "codemirror_mode": {
    "name": "ipython",
    "version": 3
   },
   "file_extension": ".py",
   "mimetype": "text/x-python",
   "name": "python",
   "nbconvert_exporter": "python",
   "pygments_lexer": "ipython3",
   "version": "3.10.15"
  }
 },
 "nbformat": 4,
 "nbformat_minor": 2
}
